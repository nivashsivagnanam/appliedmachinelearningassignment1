{
 "cells": [
  {
   "cell_type": "code",
   "execution_count": 1,
   "id": "23e3b3d5-cd89-49e1-af58-39197291b257",
   "metadata": {},
   "outputs": [
    {
     "name": "stdout",
     "output_type": "stream",
     "text": [
      "Rank of A: 3\n",
      "\n",
      "Right Null Space (Null(A)):\n",
      " [[-0.51639778]\n",
      " [ 0.25819889]\n",
      " [-0.77459667]\n",
      " [ 0.25819889]]\n",
      "\n",
      "Left Null Space (Null(A^T)):\n",
      " [[-0.51639778]\n",
      " [ 0.25819889]\n",
      " [-0.77459667]\n",
      " [ 0.25819889]]\n",
      "\n",
      "Dimensions:\n",
      "Right Null Space Dimension: 1\n",
      "Left Null Space Dimension: 1\n"
     ]
    }
   ],
   "source": [
    "import numpy as np\n",
    "\n",
    "# Step 1: Create a 3x4 matrix with rank 3\n",
    "np.random.seed(42)  # For reproducibility\n",
    "\n",
    "# Generate three independent column vectors\n",
    "col1 = np.random.randn(3, 1)\n",
    "col2 = np.random.randn(3, 1)\n",
    "col3 = np.random.randn(3, 1)\n",
    "\n",
    "# Generate a dependent column (linear combination of col1, col2, and col3)\n",
    "col4 = 2 * col1 - col2 + 3 * col3\n",
    "\n",
    "# Construct the matrix A\n",
    "A = np.hstack([col1, col2, col3, col4])\n",
    "\n",
    "# Step 2: Compute Rank\n",
    "rank_A = np.linalg.matrix_rank(A)\n",
    "print(\"Rank of A:\", rank_A)\n",
    "\n",
    "# Step 3: Compute Right Null Space (Null(A))\n",
    "U, S, Vt = np.linalg.svd(A)  # Singular Value Decomposition\n",
    "null_space_A = Vt.T[:, rank_A:]  # Extract last column(s) of V (null space basis)\n",
    "print(\"\\nRight Null Space (Null(A)):\\n\", null_space_A)\n",
    "\n",
    "# Step 4: Compute Left Null Space (Null(A^T))\n",
    "U_T, S_T, Vt_T = np.linalg.svd(A.T)\n",
    "left_null_space_A = U_T[:, rank_A:]  # Extract last row(s) of U (left null space basis)\n",
    "print(\"\\nLeft Null Space (Null(A^T)):\\n\", left_null_space_A)\n",
    "\n",
    "# Step 5: Verify Dimensions\n",
    "print(\"\\nDimensions:\")\n",
    "print(\"Right Null Space Dimension:\", null_space_A.shape[1])  # Should be 1\n",
    "print(\"Left Null Space Dimension:\", left_null_space_A.shape[1])  # Should be 0\n"
   ]
  },
  {
   "cell_type": "code",
   "execution_count": null,
   "id": "4e5013f2-404f-462d-816a-f58896a60e42",
   "metadata": {},
   "outputs": [],
   "source": []
  }
 ],
 "metadata": {
  "kernelspec": {
   "display_name": "Python 3 (ipykernel)",
   "language": "python",
   "name": "python3"
  },
  "language_info": {
   "codemirror_mode": {
    "name": "ipython",
    "version": 3
   },
   "file_extension": ".py",
   "mimetype": "text/x-python",
   "name": "python",
   "nbconvert_exporter": "python",
   "pygments_lexer": "ipython3",
   "version": "3.12.4"
  }
 },
 "nbformat": 4,
 "nbformat_minor": 5
}
