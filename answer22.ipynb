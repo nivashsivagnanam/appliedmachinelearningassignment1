{
 "cells": [
  {
   "cell_type": "code",
   "execution_count": 1,
   "id": "666f6456-ddad-4997-ab22-6eff1fbbfaf9",
   "metadata": {},
   "outputs": [
    {
     "name": "stdout",
     "output_type": "stream",
     "text": [
      "Rank of A: 2\n",
      "\n",
      "10 b vectors for which Ax = b has no solution:\n",
      "\n",
      "b_1:\n",
      "[ 1 -4  8 -1]\n",
      "\n",
      "b_2:\n",
      "[  0 -10  -2  -6]\n",
      "\n",
      "b_3:\n",
      "[ 6  4  0 -9]\n",
      "\n",
      "b_4:\n",
      "[ 8 -9  7 -5]\n",
      "\n",
      "b_5:\n",
      "[-5  4 -6 -7]\n",
      "\n",
      "b_6:\n",
      "[-1  5 -2  4]\n",
      "\n",
      "b_7:\n",
      "[ 8  5 -1  6]\n",
      "\n",
      "b_8:\n",
      "[-9  6  9 -6]\n",
      "\n",
      "b_9:\n",
      "[-6 -6  0  3]\n",
      "\n",
      "b_10:\n",
      "[-1  7 -5 -8]\n",
      "\n"
     ]
    }
   ],
   "source": [
    "import numpy as np\n",
    "\n",
    "# Define matrix A\n",
    "A = np.array([\n",
    "    [1, 2, 3, 4],\n",
    "    [2, 3, 4, 5],\n",
    "    [5, 8, 11, 14],\n",
    "    [3, 5, 7, 9]\n",
    "])\n",
    "\n",
    "# Compute rank of A\n",
    "rank_A = np.linalg.matrix_rank(A)\n",
    "print(f\"Rank of A: {rank_A}\")\n",
    "\n",
    "# Generate 10 random b vectors ensuring no solution\n",
    "no_solution_b_vectors = []\n",
    "\n",
    "while len(no_solution_b_vectors) < 10:\n",
    "    b = np.random.randint(-10, 10, (4, 1))  # Generate random 4x1 vector b\n",
    "    augmented_matrix = np.hstack([A, b])  # Augmented matrix [A|b]\n",
    "    rank_augmented = np.linalg.matrix_rank(augmented_matrix)\n",
    "\n",
    "    if rank_augmented > rank_A:\n",
    "        no_solution_b_vectors.append(b)\n",
    "\n",
    "# Print the 10 b vectors that have no solution\n",
    "print(\"\\n10 b vectors for which Ax = b has no solution:\\n\")\n",
    "for i, b in enumerate(no_solution_b_vectors):\n",
    "    print(f\"b_{i+1}:\\n{b.flatten()}\\n\")\n"
   ]
  },
  {
   "cell_type": "code",
   "execution_count": null,
   "id": "dacf4cd5-4eaa-4ddf-9bf7-43817bcdad58",
   "metadata": {},
   "outputs": [],
   "source": []
  }
 ],
 "metadata": {
  "kernelspec": {
   "display_name": "Python 3 (ipykernel)",
   "language": "python",
   "name": "python3"
  },
  "language_info": {
   "codemirror_mode": {
    "name": "ipython",
    "version": 3
   },
   "file_extension": ".py",
   "mimetype": "text/x-python",
   "name": "python",
   "nbconvert_exporter": "python",
   "pygments_lexer": "ipython3",
   "version": "3.12.4"
  }
 },
 "nbformat": 4,
 "nbformat_minor": 5
}
