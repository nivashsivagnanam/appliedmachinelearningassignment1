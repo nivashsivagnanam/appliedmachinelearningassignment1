{
 "cells": [
  {
   "cell_type": "code",
   "execution_count": 1,
   "id": "5f96197a-b791-4b2c-b99c-fb3752e24aca",
   "metadata": {},
   "outputs": [
    {
     "name": "stdout",
     "output_type": "stream",
     "text": [
      "Best k: 1\n",
      "Best Cross-Validation Score: 0.9500000000000001\n",
      "Test Set Accuracy with best k: 1.0\n"
     ]
    }
   ],
   "source": [
    "import numpy as np\n",
    "from sklearn.model_selection import cross_val_score, KFold, train_test_split\n",
    "from sklearn.neighbors import KNeighborsClassifier\n",
    "from sklearn.datasets import load_iris\n",
    "\n",
    "# Load an example dataset (replace with your actual data)\n",
    "iris = load_iris()\n",
    "X = iris.data\n",
    "y = iris.target\n",
    "\n",
    "# Split data into training and testing sets\n",
    "X_train, X_test, y_train, y_test = train_test_split(X, y, test_size=0.2, random_state=42)\n",
    "\n",
    "# Define the range of k values to test\n",
    "k_values = range(1, 26)\n",
    "\n",
    "# Initialize lists to store cross-validation scores\n",
    "cv_scores = []\n",
    "\n",
    "# Perform 3-fold cross-validation for each k\n",
    "for k in k_values:\n",
    "    knn = KNeighborsClassifier(n_neighbors=k, metric='euclidean')\n",
    "    scores = cross_val_score(knn, X_train, y_train, cv=3, scoring='accuracy')  # Use 3-fold CV\n",
    "    cv_scores.append(np.mean(scores))\n",
    "\n",
    "# Find the best k value\n",
    "best_k = k_values[np.argmax(cv_scores)]\n",
    "best_cv_score = max(cv_scores)\n",
    "\n",
    "print(f\"Best k: {best_k}\")\n",
    "print(f\"Best Cross-Validation Score: {best_cv_score}\")\n",
    "\n",
    "# Optional: Retrain and evaluate on the test set\n",
    "best_knn = KNeighborsClassifier(n_neighbors=best_k, metric='euclidean')\n",
    "best_knn.fit(X_train, y_train)\n",
    "test_accuracy = best_knn.score(X_test, y_test)\n",
    "print(f\"Test Set Accuracy with best k: {test_accuracy}\")"
   ]
  },
  {
   "cell_type": "code",
   "execution_count": null,
   "id": "bb5f8fa1-b44d-46ee-a5ef-eff4e7b18e6a",
   "metadata": {},
   "outputs": [],
   "source": []
  },
  {
   "cell_type": "code",
   "execution_count": null,
   "id": "41eac889-a1d2-411b-a4eb-3149a348f625",
   "metadata": {},
   "outputs": [],
   "source": []
  }
 ],
 "metadata": {
  "kernelspec": {
   "display_name": "Python 3 (ipykernel)",
   "language": "python",
   "name": "python3"
  },
  "language_info": {
   "codemirror_mode": {
    "name": "ipython",
    "version": 3
   },
   "file_extension": ".py",
   "mimetype": "text/x-python",
   "name": "python",
   "nbconvert_exporter": "python",
   "pygments_lexer": "ipython3",
   "version": "3.12.4"
  }
 },
 "nbformat": 4,
 "nbformat_minor": 5
}
