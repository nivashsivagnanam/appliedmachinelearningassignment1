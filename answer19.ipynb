{
 "cells": [
  {
   "cell_type": "code",
   "execution_count": 1,
   "id": "f883dd7f-ef12-407b-9ed7-ca5b25d08b1e",
   "metadata": {},
   "outputs": [
    {
     "name": "stdout",
     "output_type": "stream",
     "text": [
      "Infinite Solutions:\n",
      "Solution 1:\n",
      " [[0.66029913]\n",
      " [0.40047277]\n",
      " [0.26893915]\n",
      " [0.19817744]] \n",
      "\n",
      "Solution 2:\n",
      " [[ 0.37280458]\n",
      " [ 1.94326715]\n",
      " [ 0.23322859]\n",
      " [-0.16073823]] \n",
      "\n",
      "Solution 3:\n",
      " [[ 1.79367003]\n",
      " [ 0.19690832]\n",
      " [-0.12468986]\n",
      " [ 0.54429031]] \n",
      "\n",
      "Solution 4:\n",
      " [[ 0.96435713]\n",
      " [-0.47048443]\n",
      " [ 0.23755054]\n",
      " [ 0.43945821]] \n",
      "\n",
      "Solution 5:\n",
      " [[ 1.2701707 ]\n",
      " [ 1.19716594]\n",
      " [-0.02525898]\n",
      " [ 0.21965275]] \n",
      "\n"
     ]
    }
   ],
   "source": [
    "import numpy as np\n",
    "\n",
    "\n",
    "np.random.seed(42)  # For reproducibility\n",
    "\n",
    "# Generate two independent column vectors \n",
    "col1 = np.random.randn(5, 1)\n",
    "col2 = np.random.randn(5, 1)\n",
    "\n",
    "# Generate two dependent columns \n",
    "col3 = 2 * col1 + 3 * col2\n",
    "col4 = -1 * col1 + 4 * col2\n",
    "\n",
    "# Construct matrix A with rank 2\n",
    "A = np.hstack([col1, col2, col3, col4])\n",
    "\n",
    "# Step 2: Create a 5×1 vector b that lies in the column space of A\n",
    "x_particular = np.array([[1], [2], [0], [0]])  # Choosing arbitrary particular solution\n",
    "b = A @ x_particular  # Ensure b is in Col(A)\n",
    "\n",
    "# Step 3: Solve Ax = b using least squares to find a particular solution\n",
    "x_pseudo = np.linalg.pinv(A) @ b  # A pseudo-inverse solution\n",
    "\n",
    "# Step 4: Find infinite solutions by adding the null space solutions\n",
    "U, S, Vt = np.linalg.svd(A)  # Compute SVD\n",
    "null_space = Vt.T[:, 2:]  # Basis of the null space (since rank = 2, last 2 columns are null space)\n",
    "\n",
    "# Generate infinite solutions by varying the null space components\n",
    "print(\"Infinite Solutions:\")\n",
    "for i in range(5):  # Generate 5 different solutions\n",
    "    alpha = np.random.randn(2, 1)  # Random coefficients for null space vectors\n",
    "    x_solution = x_pseudo + null_space @ alpha\n",
    "    print(f\"Solution {i+1}:\\n\", x_solution, \"\\n\")\n"
   ]
  },
  {
   "cell_type": "code",
   "execution_count": null,
   "id": "dc1857ac-382b-48c3-952b-5f2a74adf7b1",
   "metadata": {},
   "outputs": [],
   "source": []
  }
 ],
 "metadata": {
  "kernelspec": {
   "display_name": "Python 3 (ipykernel)",
   "language": "python",
   "name": "python3"
  },
  "language_info": {
   "codemirror_mode": {
    "name": "ipython",
    "version": 3
   },
   "file_extension": ".py",
   "mimetype": "text/x-python",
   "name": "python",
   "nbconvert_exporter": "python",
   "pygments_lexer": "ipython3",
   "version": "3.12.4"
  }
 },
 "nbformat": 4,
 "nbformat_minor": 5
}
